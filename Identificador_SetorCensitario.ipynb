{
 "cells": [
  {
   "cell_type": "markdown",
   "id": "450cabb1-483b-44cc-b0f2-a0965e55d8d5",
   "metadata": {},
   "source": [
    "# Descobrindo o Setor Censitário de um DataFrame a partir da Malha Censitária do IBGE"
   ]
  },
  {
   "cell_type": "markdown",
   "id": "fc4a9e83-30c7-4ceb-b4f9-994e3d41cfcd",
   "metadata": {
    "tags": []
   },
   "source": [
    "### Antes de tudo deve-se fazer 2 coisas antes:\n",
    "#### * Baixar a malha censitária mais atual https://www.ibge.gov.br/geociencias/organizacao-do-territorio/malhas-territoriais/26565-malhas-de-setores-censitarios-divisoes-intramunicipais.html?=&t=acesso-ao-produto\n",
    "#### * Lembrar que o codigo só irá identificar o setor se as coordenadas começarem com latitude e depois longitude"
   ]
  },
  {
   "cell_type": "markdown",
   "id": "42c67a48-fc4a-4d84-8a82-cad3ab94b817",
   "metadata": {},
   "source": [
    "### 1. Transformar a coluna latitude e longitude do dataframe em Pontos(coordenadas) "
   ]
  },
  {
   "cell_type": "code",
   "execution_count": 28,
   "id": "c01d08d8-61ab-4fe4-9deb-2088a26e57d7",
   "metadata": {},
   "outputs": [],
   "source": [
    "#Importar as bibliotecas\n",
    "import pandas as pd\n",
    "import geopandas as gpd\n",
    "from shapely.geometry import Point"
   ]
  },
  {
   "cell_type": "code",
   "execution_count": 11,
   "id": "96471496-ed43-4cae-bf1c-ced7922bdfb3",
   "metadata": {},
   "outputs": [],
   "source": [
    "#Transformar um arquivo em um df (dataframe)\n",
    "df = pd.read_excel('BR_Setores_2020/teste guilherme.xlsx')#Y = longitude e X = latitude\n"
   ]
  },
  {
   "cell_type": "code",
   "execution_count": 34,
   "id": "ede76c88-f1e6-4bef-a77f-b85a2fc0698f",
   "metadata": {},
   "outputs": [
    {
     "name": "stderr",
     "output_type": "stream",
     "text": [
      "C:\\Users\\Horus-User\\Documents\\Programas\\Anaconda\\lib\\site-packages\\pandas\\core\\internals\\managers.py:304: ShapelyDeprecationWarning: The array interface is deprecated and will no longer work in Shapely 2.0. Convert the '.coords' to a numpy array instead.\n",
      "  applied = getattr(b, f)(**kwargs)\n"
     ]
    }
   ],
   "source": [
    "#Criar a coluna lat/long ou ponto ou coordenadas\n",
    "df['lat/long'] = None\n",
    "\n",
    "#Preencher a nova coluna com a latitude e longitude e depois as transformando em pontos (coordenadas)\n",
    "for index, row in df.iterrows():\n",
    "    df.loc[index, 'lat/long'] = Point(row.X, row.Y)\n",
    "    \n",
    "#Observando o resultado\n",
    "df"
   ]
  },
  {
   "cell_type": "markdown",
   "id": "8753dd38-f421-4a1e-985d-b2545f12a909",
   "metadata": {},
   "source": [
    "### 2. Preenchendo a nova coluna de Setor Censitário do df com as informações do setor do IBGE"
   ]
  },
  {
   "cell_type": "code",
   "execution_count": 14,
   "id": "315d3dda-118a-45c8-8bcf-34e03fb4cc54",
   "metadata": {},
   "outputs": [],
   "source": [
    "df['SC'] = None"
   ]
  },
  {
   "cell_type": "code",
   "execution_count": 13,
   "id": "c6d0c18b-86d4-4aef-8758-93b609538bc1",
   "metadata": {},
   "outputs": [],
   "source": [
    "#Planilha IBGE setor censitario\n",
    "gdf_br = gpd.read_file('BR_Setores_2020/BR_Setores_2020.shp')\n"
   ]
  },
  {
   "cell_type": "markdown",
   "id": "3cc7c490-3f07-4658-8f31-7dfe4120cb12",
   "metadata": {},
   "source": [
    "#### Nosso objetivo é que cada ponto passe por cada linha do 'CD_SETOR' e após isso, apagar a anterior e ir para a proxima. E caso o ponto ache o poligono em que está inserido, ele ira salvar o Setor Censitário ('CD_SETOR') desse poligono na nova coluna 'SC' do df (dataframe)"
   ]
  },
  {
   "cell_type": "code",
   "execution_count": null,
   "id": "4f54537c-00dd-4740-b641-92e407d62e24",
   "metadata": {},
   "outputs": [
    {
     "name": "stderr",
     "output_type": "stream",
     "text": [
      "C:\\Users\\Horus-User\\AppData\\Local\\Temp\\ipykernel_37060\\1175502737.py:4: SettingWithCopyWarning: \n",
      "A value is trying to be set on a copy of a slice from a DataFrame\n",
      "\n",
      "See the caveats in the documentation: https://pandas.pydata.org/pandas-docs/stable/user_guide/indexing.html#returning-a-view-versus-a-copy\n",
      "  df['SC'][p] = gdf_br['CD_SETOR'][g] # Escreva o setor censitario da linha em que o ponto esta dentro do poligono\n"
     ]
    }
   ],
   "source": [
    "for g in gdf_br.index:# g = linha\n",
    "    for p in df.index:# p = linha\n",
    "        if df['lat/long'][p].within(gdf_br['geometry'][g]):# Se coluna/linha = ponto esta dentro da coluna/linha = poligono\n",
    "            df['SC'][p] = gdf_br['CD_SETOR'][g] # Escreva o setor censitario da linha em que o ponto esta dentro do poligono \n",
    "        #else:\n",
    "            #gdf_br.drop(gdf_br.index[[g]], axis=0) # Apagar as linhas já analisadas para que o for nao passe por tudo toda vez\n",
    "\n",
    "print(df['SC'])\n"
   ]
  },
  {
   "cell_type": "code",
   "execution_count": null,
   "id": "49388053-3ba8-417a-ad77-770e3406c69a",
   "metadata": {},
   "outputs": [],
   "source": [
    "#Checando o df\n",
    "df"
   ]
  },
  {
   "cell_type": "markdown",
   "id": "4b57ad1b-befd-450e-8ad5-1809f43bbfdf",
   "metadata": {},
   "source": [
    "#### Vamos exportar para um arquivo excel e para um csv"
   ]
  },
  {
   "cell_type": "code",
   "execution_count": null,
   "id": "3cabc907-832a-4f3c-890f-7f6a6ae7f692",
   "metadata": {},
   "outputs": [],
   "source": [
    "df.to_excel('teste_guilherme.xlsx', sheet_name = 'setores', index=False)\n",
    "df.to_csv('teste_guilherme.csv', index=False)"
   ]
  },
  {
   "cell_type": "code",
   "execution_count": null,
   "id": "b309e6e7-d7f5-46d9-8dfe-0f8064379cf5",
   "metadata": {},
   "outputs": [],
   "source": []
  },
  {
   "cell_type": "code",
   "execution_count": null,
   "id": "641db556-3d0d-41c8-aee1-1d456f565f83",
   "metadata": {},
   "outputs": [],
   "source": []
  },
  {
   "cell_type": "code",
   "execution_count": null,
   "id": "3a235811-3133-4474-be61-9372b4f80204",
   "metadata": {},
   "outputs": [],
   "source": []
  }
 ],
 "metadata": {
  "kernelspec": {
   "display_name": "Python 3 (ipykernel)",
   "language": "python",
   "name": "python3"
  },
  "language_info": {
   "codemirror_mode": {
    "name": "ipython",
    "version": 3
   },
   "file_extension": ".py",
   "mimetype": "text/x-python",
   "name": "python",
   "nbconvert_exporter": "python",
   "pygments_lexer": "ipython3",
   "version": "3.9.12"
  }
 },
 "nbformat": 4,
 "nbformat_minor": 5
}
